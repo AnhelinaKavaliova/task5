{
 "cells": [
  {
   "cell_type": "code",
   "execution_count": 1,
   "id": "0333cc7a-68cc-48f4-9b17-ca08d6fda71f",
   "metadata": {},
   "outputs": [],
   "source": [
    "import pyspark\n",
    "from pyspark.sql import SparkSession\n",
    "from pyspark.sql.functions import col\n",
    "from pyspark.sql.functions import max, avg, min, count, concat_ws, sum\n",
    "from pyspark.sql.window import Window\n",
    "from pyspark.sql.functions import row_number, desc\n",
    "from pyspark.sql.functions import when, datediff, current_date"
   ]
  },
  {
   "cell_type": "code",
   "execution_count": 2,
   "id": "e588e3e8-7ae8-49a6-964e-39d57b5120b1",
   "metadata": {},
   "outputs": [],
   "source": [
    "spark = (\n",
    "    SparkSession.builder\n",
    "    .appName(\"Pagila_spark\")\n",
    "    .master(\"local[*]\")\n",
    "    .config(\"spark.jars.packages\", \"org.postgresql:postgresql:42.7.4\")\n",
    "    .getOrCreate()\n",
    ")"
   ]
  },
  {
   "cell_type": "code",
   "execution_count": 3,
   "id": "90231738-6ecb-43f0-becf-f2c3466baa93",
   "metadata": {},
   "outputs": [
    {
     "data": {
      "text/html": [
       "\n",
       "            <div>\n",
       "                <p><b>SparkSession - in-memory</b></p>\n",
       "                \n",
       "        <div>\n",
       "            <p><b>SparkContext</b></p>\n",
       "\n",
       "            <p><a href=\"http://DESKTOP-3N6PEKM:4040\">Spark UI</a></p>\n",
       "\n",
       "            <dl>\n",
       "              <dt>Version</dt>\n",
       "                <dd><code>v3.5.2</code></dd>\n",
       "              <dt>Master</dt>\n",
       "                <dd><code>local[*]</code></dd>\n",
       "              <dt>AppName</dt>\n",
       "                <dd><code>Pagila_spark</code></dd>\n",
       "            </dl>\n",
       "        </div>\n",
       "        \n",
       "            </div>\n",
       "        "
      ],
      "text/plain": [
       "<pyspark.sql.session.SparkSession at 0x2c3ebf37560>"
      ]
     },
     "execution_count": 3,
     "metadata": {},
     "output_type": "execute_result"
    }
   ],
   "source": [
    "spark"
   ]
  },
  {
   "cell_type": "code",
   "execution_count": 4,
   "id": "31ad25b7",
   "metadata": {},
   "outputs": [],
   "source": [
    "url = \"jdbc:postgresql://localhost:5432/postgres\"\n",
    "properties = {\n",
    "    \"user\": \"postgres\", \n",
    "    \"password\": \"123456\", \n",
    "    \"driver\": \"org.postgresql.Driver\"\n",
    "}"
   ]
  },
  {
   "cell_type": "code",
   "execution_count": 5,
   "id": "4631220c-9238-4ea8-887f-f28eb69c180c",
   "metadata": {},
   "outputs": [],
   "source": [
    "def read_table(url, name, properties):\n",
    "    df = spark.read.jdbc(\n",
    "        url=url,\n",
    "        table=name,\n",
    "        properties=properties\n",
    "    )\n",
    "    return df"
   ]
  },
  {
   "cell_type": "code",
   "execution_count": 6,
   "id": "56b29f03",
   "metadata": {},
   "outputs": [
    {
     "name": "stdout",
     "output_type": "stream",
     "text": [
      "+----------------+\n",
      "|      table_name|\n",
      "+----------------+\n",
      "|      film_actor|\n",
      "|         address|\n",
      "|            city|\n",
      "|           actor|\n",
      "|        category|\n",
      "|         country|\n",
      "|        customer|\n",
      "|            film|\n",
      "|   film_category|\n",
      "|       inventory|\n",
      "|        language|\n",
      "|          rental|\n",
      "|         payment|\n",
      "|           store|\n",
      "|payment_p2022_02|\n",
      "|payment_p2022_07|\n",
      "|payment_p2022_04|\n",
      "|payment_p2022_05|\n",
      "|           staff|\n",
      "|payment_p2022_01|\n",
      "+----------------+\n",
      "only showing top 20 rows\n",
      "\n"
     ]
    }
   ],
   "source": [
    "tables_names = \"(select table_name from information_schema.tables where table_schema='public'and table_type='BASE TABLE') as names\"\n",
    "df_tables_names = read_table(url, tables_names, properties)\n",
    "df_tables_names.show()"
   ]
  },
  {
   "cell_type": "code",
   "execution_count": 7,
   "id": "db757a4e",
   "metadata": {},
   "outputs": [],
   "source": [
    "df_film_actor = read_table(url, \"film_actor\", properties)\n",
    "df_address = read_table(url, \"address\", properties)\n",
    "df_city = read_table(url, \"city\", properties)\n",
    "df_actor = read_table(url, \"actor\", properties)\n",
    "df_category = read_table(url, \"category\", properties)\n",
    "df_country = read_table(url, \"country\", properties)\n",
    "df_customer = read_table(url, \"customer\", properties)\n",
    "df_film = read_table(url, \"film\", properties)\n",
    "df_film_category = read_table(url, \"film_category\", properties)\n",
    "df_inventory = read_table(url, \"inventory\", properties)\n",
    "df_language = read_table(url, \"language\", properties)\n",
    "df_rental = read_table(url, \"rental\", properties)\n",
    "df_payment = read_table(url, \"payment\", properties)\n",
    "df_store = read_table(url, \"store\", properties)\n",
    "df_staff = read_table(url, \"staff\", properties)"
   ]
  },
  {
   "cell_type": "markdown",
   "id": "af6b9adc",
   "metadata": {},
   "source": [
    "## Вывести количество фильмов в каждой категории, отсортировать по убыванию"
   ]
  },
  {
   "cell_type": "code",
   "execution_count": 8,
   "id": "70a49a37",
   "metadata": {},
   "outputs": [
    {
     "name": "stdout",
     "output_type": "stream",
     "text": [
      "+-----------+-----------+\n",
      "|       name|films_count|\n",
      "+-----------+-----------+\n",
      "|      Drama|        152|\n",
      "|      Music|        152|\n",
      "|     Travel|        151|\n",
      "|    Foreign|        150|\n",
      "|      Games|        150|\n",
      "|   Children|        150|\n",
      "|     Action|        149|\n",
      "|     Sci-Fi|        149|\n",
      "|  Animation|        148|\n",
      "|     Family|        147|\n",
      "|   Classics|        147|\n",
      "|        New|        147|\n",
      "|     Sports|        145|\n",
      "|Documentary|        145|\n",
      "|     Comedy|        143|\n",
      "|     Horror|        142|\n",
      "+-----------+-----------+\n",
      "\n"
     ]
    }
   ],
   "source": [
    "df_res_q1 = df_category.join(df_film_category, df_category[\"category_id\"] == df_film_category[\"category_id\"])\n",
    "df_res_q1 = df_res_q1.groupBy(\"name\").agg(count(\"film_id\").alias(\"films_count\")).orderBy(desc(\"films_count\"))\n",
    "df_res_q1.show()"
   ]
  },
  {
   "cell_type": "markdown",
   "id": "d4a6db98",
   "metadata": {},
   "source": [
    "## Вывести 10 актеров, чьи фильмы большего всего арендовали, отсортировать по убыванию"
   ]
  },
  {
   "cell_type": "code",
   "execution_count": 19,
   "id": "f26b39bb",
   "metadata": {},
   "outputs": [
    {
     "name": "stdout",
     "output_type": "stream",
     "text": [
      "+--------+------------------+------------+\n",
      "|actor_id|              name|rental_count|\n",
      "+--------+------------------+------------+\n",
      "|     107|    GINA DEGENERES|         753|\n",
      "|     181|    MATTHEW CARREY|         678|\n",
      "|     198|       MARY KEITEL|         674|\n",
      "|     144|ANGELA WITHERSPOON|         654|\n",
      "|     102|       WALTER TORN|         640|\n",
      "|      60|       HENRY BERRY|         612|\n",
      "|     150|       JAYNE NOLTE|         611|\n",
      "|      37|        VAL BOLGER|         605|\n",
      "|      23|     SANDRA KILMER|         604|\n",
      "|      90|      SEAN GUINESS|         599|\n",
      "+--------+------------------+------------+\n",
      "\n"
     ]
    }
   ],
   "source": [
    "df_res_q2 = (\n",
    "    df_actor.join(df_film_actor, on=[\"actor_id\"])\n",
    "    .join(df_inventory, df_film_actor[\"film_id\"] == df_inventory[\"film_id\"])\n",
    "    .join(df_rental, df_inventory[\"inventory_id\"] == df_rental[\"inventory_id\"])\n",
    ")\n",
    "  \n",
    "df_res_q2 = (\n",
    "    df_res_q2.groupBy(col(\"actor_id\"), concat_ws(\" \", col(\"first_name\"), col(\"last_name\")).alias(\"name\"))\n",
    "    .agg(count(\"rental_id\").alias(\"rental_count\"))\n",
    "    .orderBy(desc(\"rental_count\"))\n",
    "    .limit(10)\n",
    ") \n",
    "\n",
    "df_res_q2.show()"
   ]
  },
  {
   "cell_type": "markdown",
   "id": "8392df03",
   "metadata": {},
   "source": [
    "## Вывести категорию фильмов, на которую потратили больше всего денег"
   ]
  },
  {
   "cell_type": "code",
   "execution_count": 10,
   "id": "b5e18034",
   "metadata": {},
   "outputs": [],
   "source": [
    "df_res_q3 = (\n",
    "    df_category.join(df_film_category, df_category[\"category_id\"] == df_film_category[\"category_id\"])\n",
    "    .join(df_inventory, df_film_category[\"film_id\"] == df_inventory[\"film_id\"])\n",
    "    .join(df_rental, df_inventory[\"inventory_id\"] == df_rental[\"inventory_id\"])\n",
    "    .join(df_payment, df_rental[\"rental_id\"] == df_payment[\"rental_id\"])\n",
    ")\n",
    "df_res_q3 = (\n",
    "    df_res_q3.groupBy(\"name\")\n",
    "    .agg(sum(\"amount\").alias(\"total_cost\"))\n",
    "    .orderBy(desc(\"total_cost\"))\n",
    "    .limit(1)\n",
    ")\n"
   ]
  },
  {
   "cell_type": "code",
   "execution_count": 11,
   "id": "c4613214",
   "metadata": {},
   "outputs": [
    {
     "name": "stdout",
     "output_type": "stream",
     "text": [
      "+-------+----------+\n",
      "|   name|total_cost|\n",
      "+-------+----------+\n",
      "|Foreign|  10507.67|\n",
      "+-------+----------+\n",
      "\n"
     ]
    }
   ],
   "source": [
    "df_res_q3.show()"
   ]
  },
  {
   "cell_type": "markdown",
   "id": "12fad055",
   "metadata": {},
   "source": [
    "## Вывести названия фильмов, которых нет в inventory. Написать запрос без использования оператора IN"
   ]
  },
  {
   "cell_type": "code",
   "execution_count": 12,
   "id": "4b0f5688",
   "metadata": {},
   "outputs": [],
   "source": [
    "df_res_q4 = df_film.join(df_inventory, df_film[\"film_id\"] == df_inventory[\"film_id\"], \"left\")\n",
    "df_res_q4 = df_res_q4.select(\"title\").filter(col(\"inventory_id\").isNull())"
   ]
  },
  {
   "cell_type": "code",
   "execution_count": 13,
   "id": "c170e948",
   "metadata": {},
   "outputs": [
    {
     "name": "stdout",
     "output_type": "stream",
     "text": [
      "+--------------------+\n",
      "|               title|\n",
      "+--------------------+\n",
      "|      CHOCOLATE DUCK|\n",
      "|       BUTCH PANTHER|\n",
      "|        VOLUME HOUSE|\n",
      "|      ORDER BETRAYED|\n",
      "|        TADPOLE PARK|\n",
      "|    KILL BROTHERHOOD|\n",
      "|FRANKENSTEIN STRA...|\n",
      "|    CROSSING DIVORCE|\n",
      "|    SUICIDES SILENCE|\n",
      "|       CATCH AMISTAD|\n",
      "|     PERDITION FARGO|\n",
      "|       FLOATS GARDEN|\n",
      "|           GUMP DATE|\n",
      "|        WALLS ARTIST|\n",
      "|  GLADIATOR WESTWARD|\n",
      "|         HOCUS FRIDA|\n",
      "|ARSENIC INDEPENDENCE|\n",
      "|         MUPPET MILE|\n",
      "|   FIREHOUSE VIETNAM|\n",
      "|       ROOF CHAMPION|\n",
      "+--------------------+\n",
      "only showing top 20 rows\n",
      "\n"
     ]
    }
   ],
   "source": [
    "df_res_q4.show()"
   ]
  },
  {
   "cell_type": "code",
   "execution_count": 14,
   "id": "3c9f7b66",
   "metadata": {},
   "outputs": [
    {
     "data": {
      "text/plain": [
       "42"
      ]
     },
     "execution_count": 14,
     "metadata": {},
     "output_type": "execute_result"
    }
   ],
   "source": [
    "df_res_q4.count()"
   ]
  },
  {
   "cell_type": "markdown",
   "id": "49c2c101",
   "metadata": {},
   "source": [
    "## Вывести топ 3 актеров, которые больше всего появлялись в фильмах в категории “Children”. Если у нескольких актеров одинаковое кол-во фильмов, вывести всех"
   ]
  },
  {
   "cell_type": "code",
   "execution_count": 15,
   "id": "39f46c27",
   "metadata": {},
   "outputs": [],
   "source": [
    "df_res_q5 = (\n",
    "    df_actor.alias(\"a\")\n",
    "    .join(df_film_actor.alias(\"fa\"), col(\"a.actor_id\") == col(\"fa.actor_id\"))\n",
    "    .join(df_film_category.alias(\"fc\"), col(\"fa.film_id\") == col(\"fc.film_id\"))\n",
    "    .join(df_category.alias(\"c\"), col(\"fc.category_id\") == col(\"c.category_id\"))\n",
    ")\n",
    "\n",
    "df_res_q5 = (\n",
    "    df_res_q5\n",
    "    .filter(col(\"c.name\") == \"Children\")  \n",
    "    .groupBy(concat_ws(\" \", col(\"a.first_name\"), col(\"a.last_name\")).alias(\"actor_name\"))  \n",
    "    .agg(count(col(\"fc.film_id\")).alias(\"films_count\"))\n",
    "    .orderBy(desc(\"films_count\"))\n",
    "    .limit(3)\n",
    ")"
   ]
  },
  {
   "cell_type": "code",
   "execution_count": 16,
   "id": "d499bad3",
   "metadata": {},
   "outputs": [
    {
     "name": "stdout",
     "output_type": "stream",
     "text": [
      "+------------+-----------+\n",
      "|  actor_name|films_count|\n",
      "+------------+-----------+\n",
      "|SIDNEY CROWE|          9|\n",
      "|RICHARD PENN|          9|\n",
      "|EWAN GOODING|          9|\n",
      "+------------+-----------+\n",
      "\n"
     ]
    }
   ],
   "source": [
    "df_res_q5.show()"
   ]
  },
  {
   "cell_type": "markdown",
   "id": "1b82ccc7",
   "metadata": {},
   "source": [
    "## Вывести города с количеством активных и неактивных клиентов (активный — customer.active = 1). Отсортировать по количеству неактивных клиентов по убыванию"
   ]
  },
  {
   "cell_type": "code",
   "execution_count": 17,
   "id": "f104e6fc",
   "metadata": {},
   "outputs": [],
   "source": [
    "df_res_q6 = (\n",
    "    df_city.join(df_address, df_city[\"city_id\"] == df_address[\"city_id\"])\n",
    "    .join(df_customer, df_address[\"address_id\"] == df_customer[\"address_id\"])\n",
    ")\n",
    "\n",
    "df_res_q6 = (\n",
    "    df_res_q6.groupBy(\"city\")\n",
    "    .agg(\n",
    "        sum(when(col(\"active\") == 1, 1).otherwise(0)).alias(\"active_clients\"),\n",
    "        sum(when(col(\"active\") == 0, 1).otherwise(0)).alias(\"inactive_clients\")\n",
    "    )\n",
    "    .orderBy(col(\"inactive_clients\").desc())\n",
    ")"
   ]
  },
  {
   "cell_type": "code",
   "execution_count": 18,
   "id": "5e045081",
   "metadata": {},
   "outputs": [
    {
     "name": "stdout",
     "output_type": "stream",
     "text": [
      "+------------------+--------------+----------------+\n",
      "|              city|active_clients|inactive_clients|\n",
      "+------------------+--------------+----------------+\n",
      "|          Uluberia|             0|               1|\n",
      "|         Najafabad|             0|               1|\n",
      "|         Pingxiang|             0|               1|\n",
      "|          Xiangfan|             0|               1|\n",
      "|        Kumbakonam|             0|               1|\n",
      "|       Szkesfehrvr|             0|               1|\n",
      "|  Charlotte Amalie|             0|               1|\n",
      "|            Kamyin|             0|               1|\n",
      "|            Daxian|             0|               1|\n",
      "|     Coatzacoalcos|             0|               1|\n",
      "|           Wroclaw|             0|               1|\n",
      "|            Ktahya|             0|               1|\n",
      "|           Bat Yam|             0|               1|\n",
      "|   Southend-on-Sea|             0|               1|\n",
      "|            Amroha|             0|               1|\n",
      "|A Corua (La Corua)|             1|               0|\n",
      "|          Fengshan|             1|               0|\n",
      "|          Chisinau|             1|               0|\n",
      "|              Linz|             1|               0|\n",
      "|           Udaipur|             1|               0|\n",
      "+------------------+--------------+----------------+\n",
      "only showing top 20 rows\n",
      "\n"
     ]
    }
   ],
   "source": [
    "df_res_q6.show()"
   ]
  },
  {
   "cell_type": "markdown",
   "id": "172201d8",
   "metadata": {},
   "source": [
    "## Вывести категорию фильмов, у которой самое большое кол-во часов суммарной аренды в городах (customer.address_id в этом city), и которые начинаются на букву “a”. Тоже самое сделать для городов в которых есть символ “-”"
   ]
  },
  {
   "cell_type": "code",
   "execution_count": null,
   "id": "6fd6dcbb",
   "metadata": {},
   "outputs": [],
   "source": []
  }
 ],
 "metadata": {
  "kernelspec": {
   "display_name": "Python 3 (ipykernel)",
   "language": "python",
   "name": "python3"
  },
  "language_info": {
   "codemirror_mode": {
    "name": "ipython",
    "version": 3
   },
   "file_extension": ".py",
   "mimetype": "text/x-python",
   "name": "python",
   "nbconvert_exporter": "python",
   "pygments_lexer": "ipython3",
   "version": "3.12.3"
  }
 },
 "nbformat": 4,
 "nbformat_minor": 5
}
